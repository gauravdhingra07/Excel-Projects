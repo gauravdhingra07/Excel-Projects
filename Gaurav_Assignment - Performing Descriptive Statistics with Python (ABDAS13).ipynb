{
 "cells": [
  {
   "cell_type": "markdown",
   "id": "7785c0ca",
   "metadata": {},
   "source": [
    "# Performing Descriptive Statistics with Python "
   ]
  },
  {
   "cell_type": "code",
   "execution_count": 1,
   "id": "e948bb44",
   "metadata": {},
   "outputs": [],
   "source": [
    "import pandas as pd\n",
    "import numpy as np\n",
    "import seaborn as sns\n",
    "import matplotlib.pyplot as plt"
   ]
  },
  {
   "cell_type": "markdown",
   "id": "370efdd4",
   "metadata": {},
   "source": [
    "# Q1"
   ]
  },
  {
   "cell_type": "markdown",
   "id": "af9a9b08",
   "metadata": {},
   "source": [
    "#Q1. A statistics test was conducted for 10 learners in a class.\n",
    "The mean of their score is 85 and the variance of the score is zero.\n",
    "What can you interpret about the score obtained by all learners?\n",
    "\n",
    "ANS: Variance of score zero indicates that there is no variability in the scores; hence, every learner scored the same score.\n",
    "If the mean score of the test is 85 and the variance is zero, it means that all learners scored exactly 85.\n"
   ]
  },
  {
   "cell_type": "markdown",
   "id": "8f03c8b5",
   "metadata": {},
   "source": [
    "# Q2"
   ]
  },
  {
   "cell_type": "markdown",
   "id": "8f29b649",
   "metadata": {},
   "source": [
    "#Q2.In a residential locality, the mean size of the house is 2224 square feet and the median value of the house is 1500 square feet. \n",
    "What can you interpret about the skewness in the distribution of house size?\n",
    "Are there bigger or smaller houses in the residential locality?\n",
    "\n",
    "ANS: It is observed that the mean is greater than the median, this indicates a right-skewed (positively skewed) distribution. It also means that there are a few houses with significantly larger sizes that are pulling the mean upwards.\n",
    "\n",
    "In this residential locality, the presence of these larger houses suggests that while most houses are around the median size of 1500 square feet, there are some much larger houses that increase the average size to 2224 square feet. So, yes, there are bigger houses in the locality.\n"
   ]
  },
  {
   "cell_type": "markdown",
   "id": "7ac7175b",
   "metadata": {},
   "source": [
    "# Q3"
   ]
  },
  {
   "cell_type": "markdown",
   "id": "9cd8e502",
   "metadata": {},
   "source": [
    "#Q3.  You want to compare the variability in expenditure for both groups with respect to their mean. Which statistical measure would you use to evaluate the variability in expenditure? Please provide an explanation for your answer.\n",
    "\n",
    "ANS: To compare the variability in expenditure for both groups with respect to their mean, we should use the coefficient of variation (CV). The coefficient of variation is calculated by dividing the standard deviation by the mean and is expressed in percentage.\n",
    "Why we use this? It provides a standardized measure of dispersion, allowing for comparison across different datasets or groups with different means.\n",
    "\n",
    "The Coefficient of Variation is a standardized measure of the dispersion of a probability distribution or frequency distribution.\n",
    "\n",
    "CV= Mean / Standard Deviation ×100\n",
    "\n",
    "Both groups have the same Coefficient of Variation (25%), meaning the relative variability in expenditure is identical for both groups when considered in proportion to their mean."
   ]
  },
  {
   "cell_type": "code",
   "execution_count": 2,
   "id": "fccda1e9",
   "metadata": {},
   "outputs": [
    {
     "name": "stdout",
     "output_type": "stream",
     "text": [
      "Coefficient of Variation for Group I: 25.0%\n",
      "Coefficient of Variation for Group II: 25.0%\n"
     ]
    }
   ],
   "source": [
    "# ANS 3:\n",
    "std_deviation_1 = 125000\n",
    "std_deviation_2 = 10000\n",
    "mean_1 = 500000\n",
    "mean_2 = 40000\n",
    "\n",
    "def calculate_CV(std_deviation, mean):\n",
    "    return (std_deviation / mean) * 100 # Calculate CV\n",
    "\n",
    "CV_1 = calculate_CV(std_deviation_1, mean_1) # Calculate CV for Group I\n",
    "CV_2 = calculate_CV(std_deviation_2, mean_2) # Calculate CV for Group II\n",
    "\n",
    "print(f\"Coefficient of Variation for Group I: {CV_1}%\")\n",
    "print(f\"Coefficient of Variation for Group II: {CV_2}%\")"
   ]
  },
  {
   "cell_type": "markdown",
   "id": "86ac1639",
   "metadata": {},
   "source": [
    "# Q4"
   ]
  },
  {
   "cell_type": "markdown",
   "id": "3c0cdfd8",
   "metadata": {},
   "source": [
    "#Q4. \n",
    "a. Which class interval has the highest frequency?\n",
    "The 35-45 years class interval has the highest frequency with 23 patients because it is the one with the most patients.\n",
    "\n",
    "b. Which age group was affected the least?\n",
    "The age group with the least number of patients is affected the least, hence, 55-65 years class interval with 5 patients.\n",
    "\n",
    "c. How many patients aged 45 years and above were admitted?\n",
    "To find the total number of patients aged 45 years and above, we add the frequencies for the class intervals starting from 45 years:\n",
    "Age 45-55 years: 14 patients\n",
    "Age 55-65 years: 5 patients\n",
    "Total patients aged 45 years and above = 14 + 5 = 19 patients\n",
    "\n",
    "d. Which is the modal class interval in the above dataset?\n",
    "The modal class interval is the class with the highest frequency, which is 35-45 years class interval (23 patients).\n",
    "\n",
    "e. What is the median class interval of age?\n",
    "Total number of patients = 80\n",
    "Hence, Median Class interval is 35-45 years."
   ]
  },
  {
   "cell_type": "markdown",
   "id": "dcbec76d",
   "metadata": {},
   "source": [
    "# Q5"
   ]
  },
  {
   "cell_type": "code",
   "execution_count": 3,
   "id": "b8cfa091",
   "metadata": {},
   "outputs": [],
   "source": [
    "# Q5\n",
    "#Assume you are the trader and you have invested over the years, and you are worried about the average return on investment. \n",
    "#What average method would you use to compute the average return for the data given below?"
   ]
  },
  {
   "cell_type": "code",
   "execution_count": 4,
   "id": "b03c6dda",
   "metadata": {},
   "outputs": [
    {
     "name": "stdout",
     "output_type": "stream",
     "text": [
      "Arithmetic Mean is 4.50%\n"
     ]
    }
   ],
   "source": [
    "Return = [36, 23, -48, -30, 15, 31]\n",
    "   \n",
    "Arithmetic_Mean = np.mean(Return)\n",
    "  \n",
    "print(f\"Arithmetic Mean is {Arithmetic_Mean:.2f}%\")"
   ]
  },
  {
   "cell_type": "code",
   "execution_count": 5,
   "id": "f565339e",
   "metadata": {},
   "outputs": [
    {
     "name": "stdout",
     "output_type": "stream",
     "text": [
      "The Average Return on Investment is -1.43%\n"
     ]
    }
   ],
   "source": [
    "Return = [36, 23, -48, -30, 15, 31]\n",
    "    \n",
    "Return_Decimal = [1 + (Return_Percent / 100) for Return_Percent in Return]  # Converting Returns to Decimal\n",
    "    \n",
    "Geometric_Mean = np.prod(Return_Decimal)**(1/len(Return_Decimal)) - 1\n",
    "   \n",
    "Average_Return_Percent = Geometric_Mean * 100   # Converting to percentage \n",
    "  \n",
    "print(f\"The Average Return on Investment is {Average_Return_Percent:.2f}%\")"
   ]
  },
  {
   "cell_type": "markdown",
   "id": "3b4c9ab7",
   "metadata": {},
   "source": [
    "# Q6"
   ]
  },
  {
   "cell_type": "code",
   "execution_count": 6,
   "id": "8ef9b1ad",
   "metadata": {},
   "outputs": [],
   "source": [
    "# Suppose you have been told to measure the average height of all the males on the earth. \n",
    "# What would be your strategy for the same? \n",
    "# Would the average height be a parameter or a statistic? Justify your answer."
   ]
  },
  {
   "cell_type": "markdown",
   "id": "7332eec6",
   "metadata": {},
   "source": [
    "Parameter vs. Statistic:\n",
    "Parameter: A parameter is a value that describes a characteristic of an entire population. In this case, the true average height of all males on Earth is a parameter.\n",
    "Statistic: A statistic is a value that describes a characteristic of a sample. The average height calculated from your sample is a statistic."
   ]
  },
  {
   "cell_type": "markdown",
   "id": "a674f0a4",
   "metadata": {},
   "source": [
    "# Q7"
   ]
  },
  {
   "cell_type": "code",
   "execution_count": 7,
   "id": "1f443a30",
   "metadata": {},
   "outputs": [
    {
     "name": "stdout",
     "output_type": "stream",
     "text": [
      "[-1.55385602 -0.81667781 -0.33968015  0.44086148  1.00458598  1.26476653]\n"
     ]
    }
   ],
   "source": [
    "x = np.array([4.5, 6.2, 7.3, 9.1, 10.4, 11])    \n",
    "m = np.mean(x)\n",
    "s = np.std(x)\n",
    "z_scores = (x -  m) / s\n",
    "\n",
    "print(z_scores)"
   ]
  },
  {
   "cell_type": "markdown",
   "id": "bef8912a",
   "metadata": {},
   "source": [
    "# Q8"
   ]
  },
  {
   "cell_type": "code",
   "execution_count": 8,
   "id": "522b4cf4",
   "metadata": {},
   "outputs": [
    {
     "data": {
      "text/html": [
       "<div>\n",
       "<style scoped>\n",
       "    .dataframe tbody tr th:only-of-type {\n",
       "        vertical-align: middle;\n",
       "    }\n",
       "\n",
       "    .dataframe tbody tr th {\n",
       "        vertical-align: top;\n",
       "    }\n",
       "\n",
       "    .dataframe thead th {\n",
       "        text-align: right;\n",
       "    }\n",
       "</style>\n",
       "<table border=\"1\" class=\"dataframe\">\n",
       "  <thead>\n",
       "    <tr style=\"text-align: right;\">\n",
       "      <th></th>\n",
       "      <th>ID</th>\n",
       "      <th>Age</th>\n",
       "      <th>Experience</th>\n",
       "      <th>Income</th>\n",
       "      <th>ZIP Code</th>\n",
       "      <th>Family</th>\n",
       "      <th>CCAvg</th>\n",
       "      <th>Education</th>\n",
       "      <th>Mortgage</th>\n",
       "      <th>Personal Loan</th>\n",
       "      <th>Securities Account</th>\n",
       "      <th>CD Account</th>\n",
       "      <th>Online</th>\n",
       "      <th>CreditCard</th>\n",
       "    </tr>\n",
       "  </thead>\n",
       "  <tbody>\n",
       "    <tr>\n",
       "      <th>0</th>\n",
       "      <td>1</td>\n",
       "      <td>25</td>\n",
       "      <td>1</td>\n",
       "      <td>49</td>\n",
       "      <td>91107</td>\n",
       "      <td>4</td>\n",
       "      <td>1.6</td>\n",
       "      <td>1</td>\n",
       "      <td>0</td>\n",
       "      <td>0</td>\n",
       "      <td>1</td>\n",
       "      <td>0</td>\n",
       "      <td>0</td>\n",
       "      <td>0</td>\n",
       "    </tr>\n",
       "    <tr>\n",
       "      <th>1</th>\n",
       "      <td>2</td>\n",
       "      <td>45</td>\n",
       "      <td>19</td>\n",
       "      <td>34</td>\n",
       "      <td>90089</td>\n",
       "      <td>3</td>\n",
       "      <td>1.5</td>\n",
       "      <td>1</td>\n",
       "      <td>0</td>\n",
       "      <td>0</td>\n",
       "      <td>1</td>\n",
       "      <td>0</td>\n",
       "      <td>0</td>\n",
       "      <td>0</td>\n",
       "    </tr>\n",
       "    <tr>\n",
       "      <th>2</th>\n",
       "      <td>3</td>\n",
       "      <td>39</td>\n",
       "      <td>15</td>\n",
       "      <td>11</td>\n",
       "      <td>94720</td>\n",
       "      <td>1</td>\n",
       "      <td>1.0</td>\n",
       "      <td>1</td>\n",
       "      <td>0</td>\n",
       "      <td>0</td>\n",
       "      <td>0</td>\n",
       "      <td>0</td>\n",
       "      <td>0</td>\n",
       "      <td>0</td>\n",
       "    </tr>\n",
       "    <tr>\n",
       "      <th>3</th>\n",
       "      <td>4</td>\n",
       "      <td>35</td>\n",
       "      <td>9</td>\n",
       "      <td>100</td>\n",
       "      <td>94112</td>\n",
       "      <td>1</td>\n",
       "      <td>2.7</td>\n",
       "      <td>2</td>\n",
       "      <td>0</td>\n",
       "      <td>0</td>\n",
       "      <td>0</td>\n",
       "      <td>0</td>\n",
       "      <td>0</td>\n",
       "      <td>0</td>\n",
       "    </tr>\n",
       "    <tr>\n",
       "      <th>4</th>\n",
       "      <td>5</td>\n",
       "      <td>35</td>\n",
       "      <td>8</td>\n",
       "      <td>45</td>\n",
       "      <td>91330</td>\n",
       "      <td>4</td>\n",
       "      <td>1.0</td>\n",
       "      <td>2</td>\n",
       "      <td>0</td>\n",
       "      <td>0</td>\n",
       "      <td>0</td>\n",
       "      <td>0</td>\n",
       "      <td>0</td>\n",
       "      <td>1</td>\n",
       "    </tr>\n",
       "    <tr>\n",
       "      <th>...</th>\n",
       "      <td>...</td>\n",
       "      <td>...</td>\n",
       "      <td>...</td>\n",
       "      <td>...</td>\n",
       "      <td>...</td>\n",
       "      <td>...</td>\n",
       "      <td>...</td>\n",
       "      <td>...</td>\n",
       "      <td>...</td>\n",
       "      <td>...</td>\n",
       "      <td>...</td>\n",
       "      <td>...</td>\n",
       "      <td>...</td>\n",
       "      <td>...</td>\n",
       "    </tr>\n",
       "    <tr>\n",
       "      <th>4995</th>\n",
       "      <td>4996</td>\n",
       "      <td>29</td>\n",
       "      <td>3</td>\n",
       "      <td>40</td>\n",
       "      <td>92697</td>\n",
       "      <td>1</td>\n",
       "      <td>1.9</td>\n",
       "      <td>3</td>\n",
       "      <td>0</td>\n",
       "      <td>0</td>\n",
       "      <td>0</td>\n",
       "      <td>0</td>\n",
       "      <td>1</td>\n",
       "      <td>0</td>\n",
       "    </tr>\n",
       "    <tr>\n",
       "      <th>4996</th>\n",
       "      <td>4997</td>\n",
       "      <td>30</td>\n",
       "      <td>4</td>\n",
       "      <td>15</td>\n",
       "      <td>92037</td>\n",
       "      <td>4</td>\n",
       "      <td>0.4</td>\n",
       "      <td>1</td>\n",
       "      <td>85</td>\n",
       "      <td>0</td>\n",
       "      <td>0</td>\n",
       "      <td>0</td>\n",
       "      <td>1</td>\n",
       "      <td>0</td>\n",
       "    </tr>\n",
       "    <tr>\n",
       "      <th>4997</th>\n",
       "      <td>4998</td>\n",
       "      <td>63</td>\n",
       "      <td>39</td>\n",
       "      <td>24</td>\n",
       "      <td>93023</td>\n",
       "      <td>2</td>\n",
       "      <td>0.3</td>\n",
       "      <td>3</td>\n",
       "      <td>0</td>\n",
       "      <td>0</td>\n",
       "      <td>0</td>\n",
       "      <td>0</td>\n",
       "      <td>0</td>\n",
       "      <td>0</td>\n",
       "    </tr>\n",
       "    <tr>\n",
       "      <th>4998</th>\n",
       "      <td>4999</td>\n",
       "      <td>65</td>\n",
       "      <td>40</td>\n",
       "      <td>49</td>\n",
       "      <td>90034</td>\n",
       "      <td>3</td>\n",
       "      <td>0.5</td>\n",
       "      <td>2</td>\n",
       "      <td>0</td>\n",
       "      <td>0</td>\n",
       "      <td>0</td>\n",
       "      <td>0</td>\n",
       "      <td>1</td>\n",
       "      <td>0</td>\n",
       "    </tr>\n",
       "    <tr>\n",
       "      <th>4999</th>\n",
       "      <td>5000</td>\n",
       "      <td>28</td>\n",
       "      <td>4</td>\n",
       "      <td>83</td>\n",
       "      <td>92612</td>\n",
       "      <td>3</td>\n",
       "      <td>0.8</td>\n",
       "      <td>1</td>\n",
       "      <td>0</td>\n",
       "      <td>0</td>\n",
       "      <td>0</td>\n",
       "      <td>0</td>\n",
       "      <td>1</td>\n",
       "      <td>1</td>\n",
       "    </tr>\n",
       "  </tbody>\n",
       "</table>\n",
       "<p>5000 rows × 14 columns</p>\n",
       "</div>"
      ],
      "text/plain": [
       "        ID  Age  Experience  Income  ZIP Code  Family  CCAvg  Education  \\\n",
       "0        1   25           1      49     91107       4    1.6          1   \n",
       "1        2   45          19      34     90089       3    1.5          1   \n",
       "2        3   39          15      11     94720       1    1.0          1   \n",
       "3        4   35           9     100     94112       1    2.7          2   \n",
       "4        5   35           8      45     91330       4    1.0          2   \n",
       "...    ...  ...         ...     ...       ...     ...    ...        ...   \n",
       "4995  4996   29           3      40     92697       1    1.9          3   \n",
       "4996  4997   30           4      15     92037       4    0.4          1   \n",
       "4997  4998   63          39      24     93023       2    0.3          3   \n",
       "4998  4999   65          40      49     90034       3    0.5          2   \n",
       "4999  5000   28           4      83     92612       3    0.8          1   \n",
       "\n",
       "      Mortgage  Personal Loan  Securities Account  CD Account  Online  \\\n",
       "0            0              0                   1           0       0   \n",
       "1            0              0                   1           0       0   \n",
       "2            0              0                   0           0       0   \n",
       "3            0              0                   0           0       0   \n",
       "4            0              0                   0           0       0   \n",
       "...        ...            ...                 ...         ...     ...   \n",
       "4995         0              0                   0           0       1   \n",
       "4996        85              0                   0           0       1   \n",
       "4997         0              0                   0           0       0   \n",
       "4998         0              0                   0           0       1   \n",
       "4999         0              0                   0           0       1   \n",
       "\n",
       "      CreditCard  \n",
       "0              0  \n",
       "1              0  \n",
       "2              0  \n",
       "3              0  \n",
       "4              1  \n",
       "...          ...  \n",
       "4995           0  \n",
       "4996           0  \n",
       "4997           0  \n",
       "4998           0  \n",
       "4999           1  \n",
       "\n",
       "[5000 rows x 14 columns]"
      ]
     },
     "execution_count": 8,
     "metadata": {},
     "output_type": "execute_result"
    }
   ],
   "source": [
    "df = pd.read_csv(r\"C:\\Users\\Gaurav\\Documents\\H Vired\\Assignments\\EDA Python Assignment\\Bank Personal Loan Modelling.csv\")\n",
    "df"
   ]
  },
  {
   "cell_type": "code",
   "execution_count": 9,
   "id": "f34c7806",
   "metadata": {},
   "outputs": [
    {
     "data": {
      "text/plain": [
       "(5000, 14)"
      ]
     },
     "execution_count": 9,
     "metadata": {},
     "output_type": "execute_result"
    }
   ],
   "source": [
    "df.shape"
   ]
  },
  {
   "cell_type": "markdown",
   "id": "25778d9f",
   "metadata": {},
   "source": [
    "# Q8"
   ]
  },
  {
   "cell_type": "code",
   "execution_count": 10,
   "id": "93eb8ebe",
   "metadata": {},
   "outputs": [
    {
     "name": "stdout",
     "output_type": "stream",
     "text": [
      "<class 'pandas.core.frame.DataFrame'>\n",
      "RangeIndex: 5000 entries, 0 to 4999\n",
      "Data columns (total 14 columns):\n",
      " #   Column              Non-Null Count  Dtype  \n",
      "---  ------              --------------  -----  \n",
      " 0   ID                  5000 non-null   int64  \n",
      " 1   Age                 5000 non-null   int64  \n",
      " 2   Experience          5000 non-null   int64  \n",
      " 3   Income              5000 non-null   int64  \n",
      " 4   ZIP Code            5000 non-null   int64  \n",
      " 5   Family              5000 non-null   int64  \n",
      " 6   CCAvg               5000 non-null   float64\n",
      " 7   Education           5000 non-null   int64  \n",
      " 8   Mortgage            5000 non-null   int64  \n",
      " 9   Personal Loan       5000 non-null   int64  \n",
      " 10  Securities Account  5000 non-null   int64  \n",
      " 11  CD Account          5000 non-null   int64  \n",
      " 12  Online              5000 non-null   int64  \n",
      " 13  CreditCard          5000 non-null   int64  \n",
      "dtypes: float64(1), int64(13)\n",
      "memory usage: 547.0 KB\n"
     ]
    }
   ],
   "source": [
    "df.info()"
   ]
  },
  {
   "cell_type": "code",
   "execution_count": 32,
   "id": "bfc8da55",
   "metadata": {
    "scrolled": true
   },
   "outputs": [
    {
     "data": {
      "text/html": [
       "<div>\n",
       "<style scoped>\n",
       "    .dataframe tbody tr th:only-of-type {\n",
       "        vertical-align: middle;\n",
       "    }\n",
       "\n",
       "    .dataframe tbody tr th {\n",
       "        vertical-align: top;\n",
       "    }\n",
       "\n",
       "    .dataframe thead th {\n",
       "        text-align: right;\n",
       "    }\n",
       "</style>\n",
       "<table border=\"1\" class=\"dataframe\">\n",
       "  <thead>\n",
       "    <tr style=\"text-align: right;\">\n",
       "      <th></th>\n",
       "      <th>count</th>\n",
       "      <th>mean</th>\n",
       "      <th>std</th>\n",
       "      <th>min</th>\n",
       "      <th>25%</th>\n",
       "      <th>50%</th>\n",
       "      <th>75%</th>\n",
       "      <th>max</th>\n",
       "    </tr>\n",
       "  </thead>\n",
       "  <tbody>\n",
       "    <tr>\n",
       "      <th>ID</th>\n",
       "      <td>5000.0</td>\n",
       "      <td>2500.500000</td>\n",
       "      <td>1443.520003</td>\n",
       "      <td>1.0</td>\n",
       "      <td>1250.75</td>\n",
       "      <td>2500.5</td>\n",
       "      <td>3750.25</td>\n",
       "      <td>5000.0</td>\n",
       "    </tr>\n",
       "    <tr>\n",
       "      <th>Age</th>\n",
       "      <td>5000.0</td>\n",
       "      <td>45.338400</td>\n",
       "      <td>11.463166</td>\n",
       "      <td>23.0</td>\n",
       "      <td>35.00</td>\n",
       "      <td>45.0</td>\n",
       "      <td>55.00</td>\n",
       "      <td>67.0</td>\n",
       "    </tr>\n",
       "    <tr>\n",
       "      <th>Experience</th>\n",
       "      <td>5000.0</td>\n",
       "      <td>20.104600</td>\n",
       "      <td>11.467954</td>\n",
       "      <td>-3.0</td>\n",
       "      <td>10.00</td>\n",
       "      <td>20.0</td>\n",
       "      <td>30.00</td>\n",
       "      <td>43.0</td>\n",
       "    </tr>\n",
       "    <tr>\n",
       "      <th>Income</th>\n",
       "      <td>5000.0</td>\n",
       "      <td>73.774200</td>\n",
       "      <td>46.033729</td>\n",
       "      <td>8.0</td>\n",
       "      <td>39.00</td>\n",
       "      <td>64.0</td>\n",
       "      <td>98.00</td>\n",
       "      <td>224.0</td>\n",
       "    </tr>\n",
       "    <tr>\n",
       "      <th>ZIP Code</th>\n",
       "      <td>5000.0</td>\n",
       "      <td>93152.503000</td>\n",
       "      <td>2121.852197</td>\n",
       "      <td>9307.0</td>\n",
       "      <td>91911.00</td>\n",
       "      <td>93437.0</td>\n",
       "      <td>94608.00</td>\n",
       "      <td>96651.0</td>\n",
       "    </tr>\n",
       "    <tr>\n",
       "      <th>Family</th>\n",
       "      <td>5000.0</td>\n",
       "      <td>2.396400</td>\n",
       "      <td>1.147663</td>\n",
       "      <td>1.0</td>\n",
       "      <td>1.00</td>\n",
       "      <td>2.0</td>\n",
       "      <td>3.00</td>\n",
       "      <td>4.0</td>\n",
       "    </tr>\n",
       "    <tr>\n",
       "      <th>CCAvg</th>\n",
       "      <td>5000.0</td>\n",
       "      <td>1.937938</td>\n",
       "      <td>1.747659</td>\n",
       "      <td>0.0</td>\n",
       "      <td>0.70</td>\n",
       "      <td>1.5</td>\n",
       "      <td>2.50</td>\n",
       "      <td>10.0</td>\n",
       "    </tr>\n",
       "    <tr>\n",
       "      <th>Education</th>\n",
       "      <td>5000.0</td>\n",
       "      <td>1.881000</td>\n",
       "      <td>0.839869</td>\n",
       "      <td>1.0</td>\n",
       "      <td>1.00</td>\n",
       "      <td>2.0</td>\n",
       "      <td>3.00</td>\n",
       "      <td>3.0</td>\n",
       "    </tr>\n",
       "    <tr>\n",
       "      <th>Mortgage</th>\n",
       "      <td>5000.0</td>\n",
       "      <td>162.436000</td>\n",
       "      <td>57.959919</td>\n",
       "      <td>75.0</td>\n",
       "      <td>153.00</td>\n",
       "      <td>153.0</td>\n",
       "      <td>153.00</td>\n",
       "      <td>635.0</td>\n",
       "    </tr>\n",
       "    <tr>\n",
       "      <th>Personal Loan</th>\n",
       "      <td>5000.0</td>\n",
       "      <td>0.096000</td>\n",
       "      <td>0.294621</td>\n",
       "      <td>0.0</td>\n",
       "      <td>0.00</td>\n",
       "      <td>0.0</td>\n",
       "      <td>0.00</td>\n",
       "      <td>1.0</td>\n",
       "    </tr>\n",
       "    <tr>\n",
       "      <th>Securities Account</th>\n",
       "      <td>5000.0</td>\n",
       "      <td>0.104400</td>\n",
       "      <td>0.305809</td>\n",
       "      <td>0.0</td>\n",
       "      <td>0.00</td>\n",
       "      <td>0.0</td>\n",
       "      <td>0.00</td>\n",
       "      <td>1.0</td>\n",
       "    </tr>\n",
       "    <tr>\n",
       "      <th>CD Account</th>\n",
       "      <td>5000.0</td>\n",
       "      <td>0.060400</td>\n",
       "      <td>0.238250</td>\n",
       "      <td>0.0</td>\n",
       "      <td>0.00</td>\n",
       "      <td>0.0</td>\n",
       "      <td>0.00</td>\n",
       "      <td>1.0</td>\n",
       "    </tr>\n",
       "    <tr>\n",
       "      <th>Online</th>\n",
       "      <td>5000.0</td>\n",
       "      <td>0.596800</td>\n",
       "      <td>0.490589</td>\n",
       "      <td>0.0</td>\n",
       "      <td>0.00</td>\n",
       "      <td>1.0</td>\n",
       "      <td>1.00</td>\n",
       "      <td>1.0</td>\n",
       "    </tr>\n",
       "    <tr>\n",
       "      <th>CreditCard</th>\n",
       "      <td>5000.0</td>\n",
       "      <td>0.294000</td>\n",
       "      <td>0.455637</td>\n",
       "      <td>0.0</td>\n",
       "      <td>0.00</td>\n",
       "      <td>0.0</td>\n",
       "      <td>1.00</td>\n",
       "      <td>1.0</td>\n",
       "    </tr>\n",
       "  </tbody>\n",
       "</table>\n",
       "</div>"
      ],
      "text/plain": [
       "                     count          mean          std     min       25%  \\\n",
       "ID                  5000.0   2500.500000  1443.520003     1.0   1250.75   \n",
       "Age                 5000.0     45.338400    11.463166    23.0     35.00   \n",
       "Experience          5000.0     20.104600    11.467954    -3.0     10.00   \n",
       "Income              5000.0     73.774200    46.033729     8.0     39.00   \n",
       "ZIP Code            5000.0  93152.503000  2121.852197  9307.0  91911.00   \n",
       "Family              5000.0      2.396400     1.147663     1.0      1.00   \n",
       "CCAvg               5000.0      1.937938     1.747659     0.0      0.70   \n",
       "Education           5000.0      1.881000     0.839869     1.0      1.00   \n",
       "Mortgage            5000.0    162.436000    57.959919    75.0    153.00   \n",
       "Personal Loan       5000.0      0.096000     0.294621     0.0      0.00   \n",
       "Securities Account  5000.0      0.104400     0.305809     0.0      0.00   \n",
       "CD Account          5000.0      0.060400     0.238250     0.0      0.00   \n",
       "Online              5000.0      0.596800     0.490589     0.0      0.00   \n",
       "CreditCard          5000.0      0.294000     0.455637     0.0      0.00   \n",
       "\n",
       "                        50%       75%      max  \n",
       "ID                   2500.5   3750.25   5000.0  \n",
       "Age                    45.0     55.00     67.0  \n",
       "Experience             20.0     30.00     43.0  \n",
       "Income                 64.0     98.00    224.0  \n",
       "ZIP Code            93437.0  94608.00  96651.0  \n",
       "Family                  2.0      3.00      4.0  \n",
       "CCAvg                   1.5      2.50     10.0  \n",
       "Education               2.0      3.00      3.0  \n",
       "Mortgage              153.0    153.00    635.0  \n",
       "Personal Loan           0.0      0.00      1.0  \n",
       "Securities Account      0.0      0.00      1.0  \n",
       "CD Account              0.0      0.00      1.0  \n",
       "Online                  1.0      1.00      1.0  \n",
       "CreditCard              0.0      1.00      1.0  "
      ]
     },
     "execution_count": 32,
     "metadata": {},
     "output_type": "execute_result"
    }
   ],
   "source": [
    "df.describe().T"
   ]
  },
  {
   "cell_type": "code",
   "execution_count": 35,
   "id": "0e6d5d20",
   "metadata": {},
   "outputs": [
    {
     "ename": "SyntaxError",
     "evalue": "invalid syntax. Perhaps you forgot a comma? (1951077200.py, line 2)",
     "output_type": "error",
     "traceback": [
      "\u001b[1;36m  Cell \u001b[1;32mIn[35], line 2\u001b[1;36m\u001b[0m\n\u001b[1;33m    sns.histplot(df['Age']line_kws={'color': 'Red'})\u001b[0m\n\u001b[1;37m                 ^\u001b[0m\n\u001b[1;31mSyntaxError\u001b[0m\u001b[1;31m:\u001b[0m invalid syntax. Perhaps you forgot a comma?\n"
     ]
    }
   ],
   "source": [
    "plt.figure(figsize =(8,4))   \n",
    "sns.histplot(df['Age']line_kws={'color': 'Red'}) \n",
    "plt.grid(True)\n",
    "plt.title('Age')  \n",
    "plt.xlabel('Age')  \n",
    "plt.show() "
   ]
  },
  {
   "cell_type": "markdown",
   "id": "d5afd1ef",
   "metadata": {},
   "source": [
    "# Q9"
   ]
  },
  {
   "cell_type": "markdown",
   "id": "ea7b8724",
   "metadata": {},
   "source": [
    "# Measures of Central Tendency"
   ]
  },
  {
   "cell_type": "code",
   "execution_count": 12,
   "id": "5bb166f8",
   "metadata": {},
   "outputs": [
    {
     "data": {
      "text/html": [
       "<div>\n",
       "<style scoped>\n",
       "    .dataframe tbody tr th:only-of-type {\n",
       "        vertical-align: middle;\n",
       "    }\n",
       "\n",
       "    .dataframe tbody tr th {\n",
       "        vertical-align: top;\n",
       "    }\n",
       "\n",
       "    .dataframe thead th {\n",
       "        text-align: right;\n",
       "    }\n",
       "</style>\n",
       "<table border=\"1\" class=\"dataframe\">\n",
       "  <thead>\n",
       "    <tr style=\"text-align: right;\">\n",
       "      <th></th>\n",
       "      <th>Mean</th>\n",
       "      <th>Median</th>\n",
       "      <th>Mode</th>\n",
       "    </tr>\n",
       "  </thead>\n",
       "  <tbody>\n",
       "    <tr>\n",
       "      <th>Age</th>\n",
       "      <td>45.338400</td>\n",
       "      <td>45.0</td>\n",
       "      <td>35.0</td>\n",
       "    </tr>\n",
       "    <tr>\n",
       "      <th>Experience</th>\n",
       "      <td>20.104600</td>\n",
       "      <td>20.0</td>\n",
       "      <td>32.0</td>\n",
       "    </tr>\n",
       "    <tr>\n",
       "      <th>Income</th>\n",
       "      <td>73.774200</td>\n",
       "      <td>64.0</td>\n",
       "      <td>44.0</td>\n",
       "    </tr>\n",
       "    <tr>\n",
       "      <th>CCAvg</th>\n",
       "      <td>1.937938</td>\n",
       "      <td>1.5</td>\n",
       "      <td>0.3</td>\n",
       "    </tr>\n",
       "    <tr>\n",
       "      <th>Mortgage</th>\n",
       "      <td>56.498800</td>\n",
       "      <td>0.0</td>\n",
       "      <td>0.0</td>\n",
       "    </tr>\n",
       "  </tbody>\n",
       "</table>\n",
       "</div>"
      ],
      "text/plain": [
       "                 Mean  Median  Mode\n",
       "Age         45.338400    45.0  35.0\n",
       "Experience  20.104600    20.0  32.0\n",
       "Income      73.774200    64.0  44.0\n",
       "CCAvg        1.937938     1.5   0.3\n",
       "Mortgage    56.498800     0.0   0.0"
      ]
     },
     "execution_count": 12,
     "metadata": {},
     "output_type": "execute_result"
    }
   ],
   "source": [
    "QV = df[['Age', 'Experience', 'Income', 'CCAvg', 'Mortgage']]\n",
    "mean = QV.mean()\n",
    "median = QV.median()\n",
    "mode = QV.mode().iloc[0]\n",
    "#iloc \n",
    "Measures_of_Central_Tendency = pd.DataFrame({\n",
    "    'Mean': mean,\n",
    "    'Median': median,\n",
    "    'Mode': mode\n",
    "})\n",
    "Measures_of_Central_Tendency"
   ]
  },
  {
   "cell_type": "markdown",
   "id": "a3e18fae",
   "metadata": {},
   "source": [
    "# Measures Of Dispersion"
   ]
  },
  {
   "cell_type": "code",
   "execution_count": 13,
   "id": "3d826c62",
   "metadata": {},
   "outputs": [
    {
     "data": {
      "text/html": [
       "<div>\n",
       "<style scoped>\n",
       "    .dataframe tbody tr th:only-of-type {\n",
       "        vertical-align: middle;\n",
       "    }\n",
       "\n",
       "    .dataframe tbody tr th {\n",
       "        vertical-align: top;\n",
       "    }\n",
       "\n",
       "    .dataframe thead th {\n",
       "        text-align: right;\n",
       "    }\n",
       "</style>\n",
       "<table border=\"1\" class=\"dataframe\">\n",
       "  <thead>\n",
       "    <tr style=\"text-align: right;\">\n",
       "      <th></th>\n",
       "      <th>variance</th>\n",
       "      <th>std_dev</th>\n",
       "      <th>range</th>\n",
       "      <th>IQR</th>\n",
       "    </tr>\n",
       "  </thead>\n",
       "  <tbody>\n",
       "    <tr>\n",
       "      <th>Age</th>\n",
       "      <td>131.404166</td>\n",
       "      <td>11.463166</td>\n",
       "      <td>44.0</td>\n",
       "      <td>20.0</td>\n",
       "    </tr>\n",
       "    <tr>\n",
       "      <th>Experience</th>\n",
       "      <td>131.513962</td>\n",
       "      <td>11.467954</td>\n",
       "      <td>46.0</td>\n",
       "      <td>20.0</td>\n",
       "    </tr>\n",
       "    <tr>\n",
       "      <th>Income</th>\n",
       "      <td>2119.104235</td>\n",
       "      <td>46.033729</td>\n",
       "      <td>216.0</td>\n",
       "      <td>59.0</td>\n",
       "    </tr>\n",
       "    <tr>\n",
       "      <th>CCAvg</th>\n",
       "      <td>3.054312</td>\n",
       "      <td>1.747659</td>\n",
       "      <td>10.0</td>\n",
       "      <td>1.8</td>\n",
       "    </tr>\n",
       "    <tr>\n",
       "      <th>Mortgage</th>\n",
       "      <td>10345.697538</td>\n",
       "      <td>101.713802</td>\n",
       "      <td>635.0</td>\n",
       "      <td>101.0</td>\n",
       "    </tr>\n",
       "  </tbody>\n",
       "</table>\n",
       "</div>"
      ],
      "text/plain": [
       "                variance     std_dev  range    IQR\n",
       "Age           131.404166   11.463166   44.0   20.0\n",
       "Experience    131.513962   11.467954   46.0   20.0\n",
       "Income       2119.104235   46.033729  216.0   59.0\n",
       "CCAvg           3.054312    1.747659   10.0    1.8\n",
       "Mortgage    10345.697538  101.713802  635.0  101.0"
      ]
     },
     "execution_count": 13,
     "metadata": {},
     "output_type": "execute_result"
    }
   ],
   "source": [
    "QV = df[['Age', 'Experience', 'Income', 'CCAvg', 'Mortgage']]\n",
    "Standard_Deviation = QV.std()\n",
    "Variance = QV.var()\n",
    "Data_Range = QV.max() - QV.min() \n",
    "IQR = QV.quantile(0.75) - QV.quantile(0.25)\n",
    "\n",
    "Measures_of_Dispersion = pd.DataFrame({  \n",
    "    'variance': Variance,\n",
    "    'std_dev': Standard_Deviation,\n",
    "    'range': Data_Range,\n",
    "    'IQR': IQR\n",
    "})\n",
    "Measures_of_Dispersion"
   ]
  },
  {
   "cell_type": "markdown",
   "id": "19fb9518",
   "metadata": {},
   "source": [
    "# Q10"
   ]
  },
  {
   "cell_type": "code",
   "execution_count": 14,
   "id": "c9f857bf",
   "metadata": {},
   "outputs": [],
   "source": [
    "# What statistical method will you use to examine the presence of a linear relationship between age and experience variables? \n",
    "# Also, create a plot to illustrate this relationship."
   ]
  },
  {
   "cell_type": "code",
   "execution_count": 15,
   "id": "8ae8063b",
   "metadata": {},
   "outputs": [
    {
     "data": {
      "text/html": [
       "<div>\n",
       "<style scoped>\n",
       "    .dataframe tbody tr th:only-of-type {\n",
       "        vertical-align: middle;\n",
       "    }\n",
       "\n",
       "    .dataframe tbody tr th {\n",
       "        vertical-align: top;\n",
       "    }\n",
       "\n",
       "    .dataframe thead th {\n",
       "        text-align: right;\n",
       "    }\n",
       "</style>\n",
       "<table border=\"1\" class=\"dataframe\">\n",
       "  <thead>\n",
       "    <tr style=\"text-align: right;\">\n",
       "      <th></th>\n",
       "      <th>Age</th>\n",
       "      <th>Experience</th>\n",
       "    </tr>\n",
       "  </thead>\n",
       "  <tbody>\n",
       "    <tr>\n",
       "      <th>Age</th>\n",
       "      <td>1.000000</td>\n",
       "      <td>0.994215</td>\n",
       "    </tr>\n",
       "    <tr>\n",
       "      <th>Experience</th>\n",
       "      <td>0.994215</td>\n",
       "      <td>1.000000</td>\n",
       "    </tr>\n",
       "  </tbody>\n",
       "</table>\n",
       "</div>"
      ],
      "text/plain": [
       "                 Age  Experience\n",
       "Age         1.000000    0.994215\n",
       "Experience  0.994215    1.000000"
      ]
     },
     "execution_count": 15,
     "metadata": {},
     "output_type": "execute_result"
    }
   ],
   "source": [
    "# Correlation Matrix is the statistical Method\n",
    "df_1=df[['Age','Experience']] \n",
    "df_1.corr()"
   ]
  },
  {
   "cell_type": "code",
   "execution_count": 16,
   "id": "62cc1cb8",
   "metadata": {},
   "outputs": [
    {
     "data": {
      "image/png": "[encoded data removed]",
      "text/plain": [
       "<Figure size 800x400 with 1 Axes>"
      ]
     },
     "metadata": {},
     "output_type": "display_data"
    }
   ],
   "source": [
    "plt.figure(figsize =(8,4))   \n",
    "sns.regplot(x=df_1['Age'],y=df_1['Experience'],line_kws={'color': 'Red'}) \n",
    "plt.grid(True)\n",
    "plt.title('Age - Experience Relationship')  \n",
    "plt.xlabel('Age')  \n",
    "plt.ylabel('Experience')  \n",
    "plt.show() "
   ]
  },
  {
   "cell_type": "markdown",
   "id": "ba3c90ca",
   "metadata": {},
   "source": [
    "# Q11"
   ]
  },
  {
   "cell_type": "code",
   "execution_count": 17,
   "id": "0f93fcbc",
   "metadata": {},
   "outputs": [
    {
     "data": {
      "text/plain": [
       "Family\n",
       "1    1472\n",
       "2    1296\n",
       "4    1222\n",
       "3    1010\n",
       "Name: count, dtype: int64"
      ]
     },
     "execution_count": 17,
     "metadata": {},
     "output_type": "execute_result"
    }
   ],
   "source": [
    "df['Family'].value_counts()\n",
    "\n",
    "# The most frequent family size is 1."
   ]
  },
  {
   "cell_type": "markdown",
   "id": "6856a3f0",
   "metadata": {},
   "source": [
    "# Q12"
   ]
  },
  {
   "cell_type": "code",
   "execution_count": 18,
   "id": "a45c051d",
   "metadata": {},
   "outputs": [
    {
     "name": "stdout",
     "output_type": "stream",
     "text": [
      "The percentage of variation in the Income variable is: 62.3981%\n"
     ]
    }
   ],
   "source": [
    "# Coefficient of variation (CV) is used to measure the percentage of variation\n",
    "Mean_Income = df['Income'].mean()\n",
    "Standard_Deviation_Income = df['Income'].std() \n",
    "\n",
    "CV_Income = (Standard_Deviation_Income / Mean_Income) * 100 \n",
    "print(f\"The percentage of variation in the Income variable is: {CV_Income:.4f}%\")"
   ]
  },
  {
   "cell_type": "code",
   "execution_count": 19,
   "id": "ac002a8c",
   "metadata": {},
   "outputs": [],
   "source": [
    "#If the standard deviation is more than half of the mean income, \n",
    "#it suggests that there is a high degree of variability or dispersion in the income distribution. "
   ]
  },
  {
   "cell_type": "markdown",
   "id": "efbb1428",
   "metadata": {},
   "source": [
    "# Q13"
   ]
  },
  {
   "cell_type": "code",
   "execution_count": 20,
   "id": "8a403374",
   "metadata": {},
   "outputs": [
    {
     "data": {
      "text/plain": [
       "Mortgage\n",
       "0      3462\n",
       "98       17\n",
       "119      16\n",
       "89       16\n",
       "91       16\n",
       "       ... \n",
       "547       1\n",
       "458       1\n",
       "505       1\n",
       "361       1\n",
       "541       1\n",
       "Name: count, Length: 347, dtype: int64"
      ]
     },
     "execution_count": 20,
     "metadata": {},
     "output_type": "execute_result"
    }
   ],
   "source": [
    "#Replace zero values with Mean is the best choice because data is skewed.\n",
    "# REplacing with Mode is not possible.\n",
    "\n",
    "df['Mortgage'].value_counts()"
   ]
  },
  {
   "cell_type": "code",
   "execution_count": 21,
   "id": "e230c188",
   "metadata": {},
   "outputs": [
    {
     "name": "stdout",
     "output_type": "stream",
     "text": [
      "0       153\n",
      "1       153\n",
      "2       153\n",
      "3       153\n",
      "4       153\n",
      "       ... \n",
      "4995    153\n",
      "4996     85\n",
      "4997    153\n",
      "4998    153\n",
      "4999    153\n",
      "Name: Mortgage, Length: 5000, dtype: int64\n"
     ]
    }
   ],
   "source": [
    "# Calculating Median Mortgage Value\n",
    "Mortgage_Median = df[df['Mortgage'] > 0]['Mortgage'].median() \n",
    "\n",
    "#Replacing zero values with Median\n",
    "df['Mortgage'] = df['Mortgage'].replace(0, Mortgage_Median) \n",
    "\n",
    "print(df['Mortgage'])"
   ]
  },
  {
   "cell_type": "code",
   "execution_count": 22,
   "id": "f283c73b",
   "metadata": {},
   "outputs": [
    {
     "data": {
      "text/plain": [
       "Mortgage\n",
       "153    3473\n",
       "98       17\n",
       "103      16\n",
       "83       16\n",
       "119      16\n",
       "       ... \n",
       "355       1\n",
       "337       1\n",
       "382       1\n",
       "505       1\n",
       "541       1\n",
       "Name: count, Length: 346, dtype: int64"
      ]
     },
     "execution_count": 22,
     "metadata": {},
     "output_type": "execute_result"
    }
   ],
   "source": [
    "df['Mortgage'].value_counts()"
   ]
  },
  {
   "cell_type": "markdown",
   "id": "2d8997e4",
   "metadata": {},
   "source": [
    "# Q14"
   ]
  },
  {
   "cell_type": "code",
   "execution_count": 23,
   "id": "cf5f2aa0",
   "metadata": {},
   "outputs": [
    {
     "data": {
      "image/png": "[encoded data removed]",
      "text/plain": [
       "<Figure size 700x400 with 1 Axes>"
      ]
     },
     "metadata": {},
     "output_type": "display_data"
    }
   ],
   "source": [
    "# Customers Using Credit Card\n",
    "CC_Avg = df[df['CreditCard'] == 1]\n",
    "\n",
    "plt.figure(figsize=(7, 4))\n",
    "sns.kdeplot(CC_Avg['CCAvg'],fill=True)\n",
    "plt.title('CCAvg Credit Card Holders')\n",
    "plt.grid(True)\n",
    "plt.xlabel('CCAvg')\n",
    "plt.ylabel('Density')\n",
    "plt.show()"
   ]
  },
  {
   "cell_type": "markdown",
   "id": "6ffe61b5",
   "metadata": {},
   "source": [
    "Shape:\n",
    "\n",
    "The distribution is skewed to the right. This means that there is a tail extending towards higher values of CCAvg.\n",
    "The peak of the curve is around 2, indicating that the majority of credit card holders have an average credit card spending between 0 and 2.\n",
    "\n",
    "\n",
    "Central Tendency:\n",
    "\n",
    "The median CCAvg is likely to be lower than the mean due to the right skew. This is because the tail on the right side pulls the mean towards higher values.\n",
    "Spread:\n",
    "\n",
    "The distribution is relatively spread out. This means that there is a significant variation in the average credit card spending among credit card holders.\n",
    "Interpretation:\n",
    "\n",
    "The majority of credit card holders have a relatively low average credit card spending. However, there is a significant portion of credit card holders with much higher average spending.\n",
    "The right skew suggests that a small number of credit card holders are responsible for a large portion of total credit card spending.\n",
    "\n",
    "\n",
    "Additional Considerations:\n",
    "\n",
    "It would be helpful to know the specific range of CCAvg values represented in the plot to get a better sense of the scale of the distribution.\n",
    "Comparing this distribution to other relevant variables (e.g., income, age) could provide further insights into the factors influencing credit card spending.\n",
    "Overall, the density curve shows that the distribution of CCAvg for credit card holders is skewed to the right, with a peak around 2 and a relatively wide spread. This suggests that a majority of credit card holders have low average spending, but there is a significant portion with high average spending.\n",
    "\n"
   ]
  },
  {
   "cell_type": "markdown",
   "id": "b12e4729",
   "metadata": {},
   "source": [
    "# Q15"
   ]
  },
  {
   "cell_type": "markdown",
   "id": "c974966e",
   "metadata": {},
   "source": [
    "1. Boxplot for Age:\n",
    "Distribution: The box plot shows a roughly symmetrical distribution of age.\n",
    "\n",
    "Median: The median is around 40 years.\n",
    "\n",
    "Interquartile Range (IQR): The middle 50% of the data (from the first quartile to the third quartile) is between approximately 30 and 50 years.\n",
    "\n",
    "Whiskers: The whiskers do not show any extreme outliers, suggesting most of the data falls within a reasonable range.\n",
    "\n",
    "Skewness: No significant skewness, as both whiskers are of similar length, indicating a roughly symmetrical distribution.\n",
    "\n",
    "\n",
    "2. Boxplot for Experience:\n",
    "Distribution: The experience data appears symmetric as well, with a slightly wider spread than the age data.\n",
    "\n",
    "Median: The median is approximately 20 years of experience.\n",
    "Interquartile Range (IQR): The middle 50% of the data falls between around 10 and 30 years.\n",
    "\n",
    "Whiskers: No noticeable outliers.\n",
    "Skewness: Like age, experience appears to be symmetrical, with no major skewness.\n",
    "\n",
    "\n",
    "3. Boxplot for Income:\n",
    "Distribution: The data has a right skew, meaning there are a few high-income individuals that are much higher than the majority.\n",
    "\n",
    "Median: The median income is around $60,000.\n",
    "\n",
    "Interquartile Range (IQR): The middle 50% of incomes are between approximately $40,000 and $90,000.\n",
    "Whiskers: There are a significant number of outliers on the right side, suggesting some very high-income earners.\n",
    "\n",
    "Skewness: The long tail on the right-hand side and outliers indicate positive skewness (right skew).\n",
    "\n",
    "\n",
    "4. Boxplot for CCAvg (Credit Card Average):\n",
    "Distribution: The distribution of credit card average spending is also right skewed.\n",
    "\n",
    "Median: The median value is just under 2.\n",
    "\n",
    "Interquartile Range (IQR): The middle 50% of data falls between approximately 1 and 3.\n",
    "\n",
    "Whiskers: There are a number of outliers extending to the right, indicating that a few people have much higher credit card spending averages.\n",
    "\n",
    "Skewness: Positive skewness is observed due to the outliers and longer tail on the right.\n",
    "\n",
    "\n",
    "5. Boxplot for Mortgage:\n",
    "Distribution: The distribution of mortgage amounts shows extreme right skew.\n",
    "\n",
    "Median: The median mortgage is relatively low (around $0), as indicated by the lower part of the box.\n",
    "Interquartile Range (IQR): The middle 50% of data is concentrated at the lower end, with a large number of people having little to no mortgage debt.\n",
    "\n",
    "Whiskers: There is a long tail extending to the right, with many outliers representing high mortgage amounts.\n",
    "\n",
    "Skewness: This distribution shows strong positive skewness (right skew), indicating a small number of people have disproportionately large mortgages.\n",
    "\n",
    "Summary of Skewness:\n",
    "Age and Experience: These distributions are roughly symmetrical with little to no skewness.\n",
    "Income, CCAvg, and Mortgage: All exhibit positive skewness (right skew), indicating that the majority of data points are clustered toward the lower end, with a few extreme high values stretching the distribution.\n",
    "The right skew in income, credit card average, and mortgage suggests that while most individuals fall within a lower to middle range, there are a few individuals with disproportionately higher values, creating a long tail in the distribution."
   ]
  },
  {
   "cell_type": "code",
   "execution_count": 24,
   "id": "2c0425a3",
   "metadata": {
    "scrolled": true
   },
   "outputs": [
    {
     "data": {
      "image/png": "[encoded data removed]",
      "text/plain": [
       "<Figure size 600x400 with 5 Axes>"
      ]
     },
     "metadata": {},
     "output_type": "display_data"
    }
   ],
   "source": [
    "QV = ['Age', 'Experience', 'Income', 'CCAvg', 'Mortgage']\n",
    "plt.figure(figsize=(6,4))\n",
    "\n",
    "for i, df_1 in enumerate(QV):  # using for loop \n",
    "    plt.subplot((len(QV) + 2) // 2, 3, i + 1)\n",
    "    sns.boxplot(x=df[df_1])\n",
    "    plt.title(f'Boxplot for {df_1}')\n",
    "    plt.xlabel(df_1)\n",
    "\n",
    "plt.tight_layout()  # Adjust layout to prevent overlap\n",
    "plt.show()"
   ]
  },
  {
   "cell_type": "markdown",
   "id": "63fd64d7",
   "metadata": {},
   "source": [
    "# Q16"
   ]
  },
  {
   "cell_type": "code",
   "execution_count": 25,
   "id": "cfa92c9c",
   "metadata": {},
   "outputs": [
    {
     "data": {
      "text/html": [
       "<div>\n",
       "<style scoped>\n",
       "    .dataframe tbody tr th:only-of-type {\n",
       "        vertical-align: middle;\n",
       "    }\n",
       "\n",
       "    .dataframe tbody tr th {\n",
       "        vertical-align: top;\n",
       "    }\n",
       "\n",
       "    .dataframe thead th {\n",
       "        text-align: right;\n",
       "    }\n",
       "</style>\n",
       "<table border=\"1\" class=\"dataframe\">\n",
       "  <thead>\n",
       "    <tr style=\"text-align: right;\">\n",
       "      <th></th>\n",
       "      <th>Income Deciles</th>\n",
       "    </tr>\n",
       "  </thead>\n",
       "  <tbody>\n",
       "    <tr>\n",
       "      <th>10th</th>\n",
       "      <td>22.0</td>\n",
       "    </tr>\n",
       "    <tr>\n",
       "      <th>20th</th>\n",
       "      <td>33.0</td>\n",
       "    </tr>\n",
       "    <tr>\n",
       "      <th>30th</th>\n",
       "      <td>42.0</td>\n",
       "    </tr>\n",
       "    <tr>\n",
       "      <th>40th</th>\n",
       "      <td>52.0</td>\n",
       "    </tr>\n",
       "    <tr>\n",
       "      <th>50th</th>\n",
       "      <td>64.0</td>\n",
       "    </tr>\n",
       "    <tr>\n",
       "      <th>60th</th>\n",
       "      <td>78.0</td>\n",
       "    </tr>\n",
       "    <tr>\n",
       "      <th>70th</th>\n",
       "      <td>88.3</td>\n",
       "    </tr>\n",
       "    <tr>\n",
       "      <th>80th</th>\n",
       "      <td>113.0</td>\n",
       "    </tr>\n",
       "    <tr>\n",
       "      <th>90th</th>\n",
       "      <td>145.0</td>\n",
       "    </tr>\n",
       "    <tr>\n",
       "      <th>100th</th>\n",
       "      <td>224.0</td>\n",
       "    </tr>\n",
       "  </tbody>\n",
       "</table>\n",
       "</div>"
      ],
      "text/plain": [
       "       Income Deciles\n",
       "10th             22.0\n",
       "20th             33.0\n",
       "30th             42.0\n",
       "40th             52.0\n",
       "50th             64.0\n",
       "60th             78.0\n",
       "70th             88.3\n",
       "80th            113.0\n",
       "90th            145.0\n",
       "100th           224.0"
      ]
     },
     "execution_count": 25,
     "metadata": {},
     "output_type": "execute_result"
    }
   ],
   "source": [
    "# Calculating the deciles\n",
    "deciles = df['Income'].quantile([0.1, 0.2, 0.3, 0.4, 0.5, 0.6, 0.7, 0.8, 0.9, 1.0])\n",
    "deciles = pd.DataFrame(deciles)\n",
    "# Renaming index with decile labels directly\n",
    "deciles.index = ['10th', '20th', '30th', '40th', '50th', '60th', '70th', '80th', '90th', '100th']\n",
    "deciles.columns = ['Income Deciles']\n",
    "deciles"
   ]
  },
  {
   "cell_type": "markdown",
   "id": "49e83022",
   "metadata": {},
   "source": [
    "# Q17"
   ]
  },
  {
   "cell_type": "code",
   "execution_count": 26,
   "id": "27cf91a7",
   "metadata": {},
   "outputs": [
    {
     "data": {
      "text/html": [
       "<div>\n",
       "<style scoped>\n",
       "    .dataframe tbody tr th:only-of-type {\n",
       "        vertical-align: middle;\n",
       "    }\n",
       "\n",
       "    .dataframe tbody tr th {\n",
       "        vertical-align: top;\n",
       "    }\n",
       "\n",
       "    .dataframe thead th {\n",
       "        text-align: right;\n",
       "    }\n",
       "</style>\n",
       "<table border=\"1\" class=\"dataframe\">\n",
       "  <thead>\n",
       "    <tr style=\"text-align: right;\">\n",
       "      <th></th>\n",
       "      <th>IQR</th>\n",
       "    </tr>\n",
       "  </thead>\n",
       "  <tbody>\n",
       "    <tr>\n",
       "      <th>Age</th>\n",
       "      <td>20.0</td>\n",
       "    </tr>\n",
       "    <tr>\n",
       "      <th>Experience</th>\n",
       "      <td>20.0</td>\n",
       "    </tr>\n",
       "    <tr>\n",
       "      <th>Income</th>\n",
       "      <td>59.0</td>\n",
       "    </tr>\n",
       "    <tr>\n",
       "      <th>CCAvg</th>\n",
       "      <td>1.8</td>\n",
       "    </tr>\n",
       "    <tr>\n",
       "      <th>Mortgage</th>\n",
       "      <td>0.0</td>\n",
       "    </tr>\n",
       "  </tbody>\n",
       "</table>\n",
       "</div>"
      ],
      "text/plain": [
       "             IQR \n",
       "Age          20.0\n",
       "Experience   20.0\n",
       "Income       59.0\n",
       "CCAvg         1.8\n",
       "Mortgage      0.0"
      ]
     },
     "execution_count": 26,
     "metadata": {},
     "output_type": "execute_result"
    }
   ],
   "source": [
    "QV = df[['Age', 'Experience', 'Income', 'CCAvg', 'Mortgage']]\n",
    "\n",
    "IQR_values = QV.quantile(0.75) - QV.quantile(0.25) # calculating IQR\n",
    "IQR_df = IQR_values.to_frame(name=' IQR ')\n",
    "IQR_df"
   ]
  },
  {
   "cell_type": "markdown",
   "id": "91931877",
   "metadata": {},
   "source": [
    "# Q18"
   ]
  },
  {
   "cell_type": "code",
   "execution_count": 27,
   "id": "403624bd",
   "metadata": {},
   "outputs": [
    {
     "name": "stdout",
     "output_type": "stream",
     "text": [
      "Credit Card Spending & Income Correlation: 0.6459836696249656\n"
     ]
    },
    {
     "data": {
      "image/png": "[encoded data removed]",
      "text/plain": [
       "<Figure size 600x300 with 1 Axes>"
      ]
     },
     "metadata": {},
     "output_type": "display_data"
    }
   ],
   "source": [
    "correlation = df['Income'].corr(df['CCAvg'])\n",
    "print(f\"Credit Card Spending & Income Correlation: {correlation}\")\n",
    "plt.figure(figsize=(6, 3))\n",
    "sns.scatterplot(x=df['Income'], y=df['CCAvg'])\n",
    "plt.title('Credit Card Spending & Income Correlation')\n",
    "plt.xlabel('Income')\n",
    "plt.ylabel('CCAvg (Average Credit Card Spending)')\n",
    "plt.show()"
   ]
  },
  {
   "cell_type": "markdown",
   "id": "3b87fb29",
   "metadata": {},
   "source": [
    "Yes, higher-income holders tend to spend more on credit cards. However, the relationship is not perfectly linear. While many higher-income individuals do spend more, there are outliers (both low spenders and high spenders) within every income category. The data shows variability, but the overall pattern suggests that income is a significant factor influencing credit card spending, though it is not the only factor.\n",
    "\n",
    "The scatter plot shows a positive relationship between income (x-axis) and average credit card spending (CCAvg, y-axis). As income increases, credit card spending also tends to increase. This is backed up by the correlation coefficient of approximately 0.646, indicating a moderate to strong positive correlation."
   ]
  },
  {
   "cell_type": "markdown",
   "id": "30146f76",
   "metadata": {},
   "source": [
    "# Q19"
   ]
  },
  {
   "cell_type": "code",
   "execution_count": 28,
   "id": "72d19cf4",
   "metadata": {},
   "outputs": [
    {
     "data": {
      "text/plain": [
       "Online\n",
       "1    2984\n",
       "0    2016\n",
       "Name: count, dtype: int64"
      ]
     },
     "execution_count": 28,
     "metadata": {},
     "output_type": "execute_result"
    }
   ],
   "source": [
    "User_counts = df['Online'].value_counts()\n",
    "User_counts"
   ]
  },
  {
   "cell_type": "code",
   "execution_count": 29,
   "id": "38a5a61d",
   "metadata": {},
   "outputs": [
    {
     "name": "stdout",
     "output_type": "stream",
     "text": [
      "Mean income of online banking users:  74.31\n",
      "Mean income of offline banking users:  72.98\n",
      "Income difference is: 1.33\n"
     ]
    },
    {
     "data": {
      "image/png": "[encoded data removed]",
      "text/plain": [
       "<Figure size 800x400 with 1 Axes>"
      ]
     },
     "metadata": {},
     "output_type": "display_data"
    }
   ],
   "source": [
    "online_users = df[df['Online'] == 1]['Income']\n",
    "offline_users = df[df['Online'] == 0]['Income'] \n",
    "\n",
    "print(f\"Mean income of online banking users: {online_users.mean(): .2f}\") \n",
    "print(f\"Mean income of offline banking users: {offline_users.mean(): .2f}\") \n",
    "Income_difference = online_users.mean() - offline_users.mean()\n",
    "print(f\"Income difference is:{Income_difference: .2f}\")\n",
    "\n",
    "plt.figure(figsize=(8, 4))\n",
    "sns.histplot(df[df['Online'] == 1]['Income'], color='grey', label='Online Users', kde=True)\n",
    "sns.histplot(df[df['Online'] == 0]['Income'], color='skyblue', label='Offline Users', kde=True)\n",
    "plt.title('Income Distribution of Online vs Offline Users')\n",
    "plt.xlabel('Income')\n",
    "plt.ylabel('Count of Users')\n",
    "plt.legend()\n",
    "plt.show()"
   ]
  },
  {
   "cell_type": "markdown",
   "id": "532fecd0",
   "metadata": {},
   "source": [
    "While the mean income of online banking users is slightly higher than offline users, the difference is very small (1.33). This suggests that income is not a strong determining factor in whether someone uses online banking services. However, there is a slight tendency for higher-income users to prefer online banking.\n",
    "\n",
    "Conclusion: Customers using bank internet facilities tend to have marginally higher incomes, but this difference is not large enough to draw strong conclusions. The distributions of both groups are very similar across income levels.\n"
   ]
  },
  {
   "cell_type": "markdown",
   "id": "5c6fc40a",
   "metadata": {},
   "source": [
    "# Q20"
   ]
  },
  {
   "cell_type": "code",
   "execution_count": 30,
   "id": "c07e6e67",
   "metadata": {},
   "outputs": [
    {
     "name": "stdout",
     "output_type": "stream",
     "text": [
      "Observations Outside ±3σ: 2\n"
     ]
    },
    {
     "data": {
      "image/png": "[encoded data removed]",
      "text/plain": [
       "<Figure size 800x400 with 1 Axes>"
      ]
     },
     "metadata": {},
     "output_type": "display_data"
    }
   ],
   "source": [
    "# Mean of column Income\n",
    "mean_income = df['Income'].mean()\n",
    "# std_dev of column Income\n",
    "std_income = df['Income'].std() \n",
    "\n",
    "z_score = (df['Income'] - mean_income) / std_income\n",
    "\n",
    "# Filtering Outliers\n",
    "outliers = df[(z_score > 3) | (z_score < -3)] \n",
    "\n",
    "num_outliers = outliers.shape[0] # Count the number of outliers\n",
    "num_outliers\n",
    "print(f\"Observations Outside ±3σ: {num_outliers}\") \n",
    "\n",
    "plt.figure(figsize=(8, 4))\n",
    "sns.histplot(df['Income'], bins=50, kde=True, color='skyblue')\n",
    "\n",
    "plt.axvline(mean_income, color='black', linestyle='--', label='Mean')\n",
    "plt.axvline(mean_income + 3*std_income, color='darkblue', linestyle='--', label='+3σ')\n",
    "plt.axvline(mean_income - 3*std_income, color='brown', linestyle='--', label='-3σ')\n",
    "\n",
    "plt.scatter(outliers['Income'], np.zeros_like(outliers['Income']), color='red', label='Outliers', zorder=40)\n",
    "\n",
    "plt.title('Income Distribution with ±3σ ranges')\n",
    "plt.xlabel('Income')\n",
    "plt.ylabel('Frequency')\n",
    "plt.legend()\n",
    "plt.show()"
   ]
  },
  {
   "cell_type": "code",
   "execution_count": 31,
   "id": "63dd070d",
   "metadata": {},
   "outputs": [
    {
     "ename": "SyntaxError",
     "evalue": "invalid syntax (482129816.py, line 1)",
     "output_type": "error",
     "traceback": [
      "\u001b[1;36m  Cell \u001b[1;32mIn[31], line 1\u001b[1;36m\u001b[0m\n\u001b[1;33m    THANK YOU\u001b[0m\n\u001b[1;37m          ^\u001b[0m\n\u001b[1;31mSyntaxError\u001b[0m\u001b[1;31m:\u001b[0m invalid syntax\n"
     ]
    }
   ],
   "source": [
    "THANK YOU"
   ]
  },
  {
   "cell_type": "code",
   "execution_count": null,
   "id": "9e76de6e",
   "metadata": {},
   "outputs": [],
   "source": [
    "GAURAV DHINGRA"
   ]
  }
 ],
 "metadata": {
  "kernelspec": {
   "display_name": "Python 3 (ipykernel)",
   "language": "python",
   "name": "python3"
  },
  "language_info": {
   "codemirror_mode": {
    "name": "ipython",
    "version": 3
   },
   "file_extension": ".py",
   "mimetype": "text/x-python",
   "name": "python",
   "nbconvert_exporter": "python",
   "pygments_lexer": "ipython3",
   "version": "3.11.5"
  }
 },
 "nbformat": 4,
 "nbformat_minor": 5
}
